{
 "cells": [
  {
   "cell_type": "code",
   "execution_count": null,
   "metadata": {},
   "outputs": [],
   "source": [
    "import pandas as pd"
   ]
  },
  {
   "cell_type": "code",
   "execution_count": null,
   "metadata": {},
   "outputs": [],
   "source": [
    "def similar_trails(trail_name='Bear Mountain Loop Trail'):\n",
    "    ''' reads the trail name and returns other trails from the cluster'''\n",
    "    trails = ''\n",
    "    # read the trails from the same cluster\n",
    "    dbname = './flaskexample/static/data/trail_clusters_new.csv'\n",
    "    trails_db = pd.read_csv(dbname)\n",
    "    trails_db.head()\n",
    "    trail_cluster = trails_db[trails_db['trail']== trail_name]['cluster']\n",
    "    if len(trail_cluster)==0:\n",
    "        return []\n",
    "    else:\n",
    "        trails_in_cluster = trails_db[trails_db['cluster']==int(trail_cluster)]\n",
    "        trails = {trail for trail in trails_in_cluster['trail']}\n",
    "        return trails"
   ]
  }
 ],
 "metadata": {
  "kernelspec": {
   "display_name": "Python 3",
   "language": "python",
   "name": "python3"
  },
  "language_info": {
   "codemirror_mode": {
    "name": "ipython",
    "version": 3
   },
   "file_extension": ".py",
   "mimetype": "text/x-python",
   "name": "python",
   "nbconvert_exporter": "python",
   "pygments_lexer": "ipython3",
   "version": "3.7.3"
  }
 },
 "nbformat": 4,
 "nbformat_minor": 2
}
